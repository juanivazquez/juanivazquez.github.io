{
 "cells": [
  {
   "cell_type": "markdown",
   "id": "d977750f",
   "metadata": {},
   "source": [
    "<!DOCTYPE html>\n",
    "<html lang=\"en\">\n",
    "<head>\n",
    "    <meta charset=\"UTF-8\">\n",
    "    <meta name=\"viewport\" content=\"width=device-width, initial-scale=1.0\">\n",
    "    <link rel=\"stylesheet\" href=\"https://fonts.googleapis.com/css2?family=Roboto:wght@400;700&display=swap\">\n",
    "</head>\n",
    "\n",
    "<body>\n",
    "\n",
    "<div style=\"background-color: #65BF6F; color: black; text-align: center; padding: 10px; font-family: 'Roboto', sans-serif; font-size: 24px\">\n",
    "    \n",
    "\n",
    "<div style=\"text-align:center;\">\n",
    "    <img src=\"Jaki_Charrua_gatodelespacio.jpg\" alt=\"Drawing\" style=\"width:150px; border-radius:90%;\"/>\n",
    "    \n",
    "    \n",
    "</div> \n",
    "\n",
    "\n",
    "<body>\n",
    "\n",
    "\n",
    "    \n",
    "</html>\n",
    "\n",
    "<!DOCTYPE html>\n",
    "<html lang=\"en\">\n",
    "<head>\n",
    "    <meta charset=\"UTF-8\">\n",
    "    <meta name=\"viewport\" content=\"width=device-width, initial-scale=1.0\">\n",
    "    <link rel=\"stylesheet\" href=\"https://use.typekit.net/your-typekit-id.css\">\n",
    "</head>\n",
    "<body>\n",
    "    \n",
    "    \n",
    "<div style=\"background-color: #000000; color: white; text-align: center; padding: 10px; font-family: 'Proxima Nova', sans-serif; font-size: 24px;\">\n",
    "    Replication Lab  <br>\n",
    "    GEC0319 | Time Series <br>\n",
    "    \n",
    "    \n",
    "</div>\n",
    "\n",
    "\n",
    "\n",
    "    \n",
    "    \n",
    "</body>\n",
    "</html>"
   ]
  },
  {
   "cell_type": "markdown",
   "id": "5fc9bc19",
   "metadata": {},
   "source": [
    "## **Further Evidence on the Great Crash, the Oil-Price Shock, and the Unit-Root Hypothesis** \n",
    "- Author(s): **E Zivot, DWK Andrews**  \n",
    "- First Published: **1992**\n",
    "- Link: [here](https://drive.google.com/file/d/1xtl6Dr-aaUB0H4q3TuraSrld_5uXnxKa/view?usp=drive_link)"
   ]
  },
  {
   "cell_type": "markdown",
   "id": "5cbeb11c",
   "metadata": {},
   "source": [
    "#### Abstract\n",
    "\n",
    "*Recently, Perron has carried out tests of the unit-root hypothesis against the alternative hypothesis of trend stationarity with a break in the trend occurring at the Great Crash of 1929 or at the 1973 oil-price shock. His analysis covers the Nelson-Plosser macroeconomic data series as well as a postwar quarterly real gross national product (GNP) series. His tests reject the\n",
    "unit-root null hypothesis for most of the series. This article takes issue with the assumption used by Perron that the Great Crash and the oil-price shock can be treated as exogenous events. A variation of Perron's test is considered in which the breakpoint is estimated rather than fixed.\n",
    "We argue that this test is more appropriate than Perron's because it circumvents the problem of data-mining. The asymptotic distribution of the estimated breakpoint test statistic is determined. The data series considered by Perron are reanalyzed using this test statistic. The empirical results make use of the asymptotics developed for the test statistic as well as extensive finite-sample corrections obtained by simulation. The effect on the empirical results of fat-tailed and temporally dependent innovations is investigated. In brief, by treating the breakpoint as endogenous, we find that there is less evidence against the unit-root hypothesis than Perron finds for many of the data series but stronger evidence against it for several of the series, including the Nelson-Plosser industrial-production, nominal-GNP, and real-GNP series.*"
   ]
  },
  {
   "cell_type": "markdown",
   "id": "cb336e78",
   "metadata": {},
   "source": [
    "## 📚 Index\n",
    "\n",
    "- [I. Section Title](#section-I)\n",
    "- [II. Section Title](#section-II)\n",
    "- [III. Section Title](#section-III)\n",
    "- [IV. Section Title](#section-IV)\n"
   ]
  },
  {
   "cell_type": "markdown",
   "id": "b3725bd7",
   "metadata": {},
   "source": [
    "# section-I\n",
    "---"
   ]
  },
  {
   "cell_type": "code",
   "execution_count": null,
   "id": "c5757f1d",
   "metadata": {},
   "outputs": [],
   "source": []
  },
  {
   "cell_type": "markdown",
   "id": "05f151a6",
   "metadata": {},
   "source": [
    "# section-II\n",
    "---"
   ]
  },
  {
   "cell_type": "code",
   "execution_count": null,
   "id": "d08b3992",
   "metadata": {},
   "outputs": [],
   "source": []
  },
  {
   "cell_type": "markdown",
   "id": "c80b5344",
   "metadata": {},
   "source": [
    "# section-III\n",
    "---"
   ]
  },
  {
   "cell_type": "code",
   "execution_count": null,
   "id": "30663804",
   "metadata": {},
   "outputs": [],
   "source": []
  },
  {
   "cell_type": "markdown",
   "id": "2629b3af",
   "metadata": {},
   "source": [
    "# section-IV\n",
    "\n",
    "---"
   ]
  },
  {
   "cell_type": "code",
   "execution_count": null,
   "id": "4d487a19",
   "metadata": {},
   "outputs": [],
   "source": []
  }
 ],
 "metadata": {
  "kernelspec": {
   "display_name": "Python 3 (ipykernel)",
   "language": "python",
   "name": "python3"
  },
  "language_info": {
   "codemirror_mode": {
    "name": "ipython",
    "version": 3
   },
   "file_extension": ".py",
   "mimetype": "text/x-python",
   "name": "python",
   "nbconvert_exporter": "python",
   "pygments_lexer": "ipython3",
   "version": "3.7.12"
  }
 },
 "nbformat": 4,
 "nbformat_minor": 5
}
