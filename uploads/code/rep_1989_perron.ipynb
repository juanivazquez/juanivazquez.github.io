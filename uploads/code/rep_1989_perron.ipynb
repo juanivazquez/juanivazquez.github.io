{
 "cells": [
  {
   "cell_type": "markdown",
   "id": "68cb592e",
   "metadata": {},
   "source": [
    "<!DOCTYPE html>\n",
    "<html lang=\"en\">\n",
    "<head>\n",
    "    <meta charset=\"UTF-8\">\n",
    "    <meta name=\"viewport\" content=\"width=device-width, initial-scale=1.0\">\n",
    "    <link rel=\"stylesheet\" href=\"https://fonts.googleapis.com/css2?family=Roboto:wght@400;700&display=swap\">\n",
    "</head>\n",
    "\n",
    "<body>\n",
    "\n",
    "<div style=\"background-color: #65BF6F; color: black; text-align: center; padding: 10px; font-family: 'Roboto', sans-serif; font-size: 24px\">\n",
    "    \n",
    "\n",
    "<div style=\"text-align:center;\">\n",
    "    <img src=\"Jaki_Charrua_gatodelespacio.jpg\" alt=\"Drawing\" style=\"width:150px; border-radius:90%;\"/>\n",
    "    \n",
    "    \n",
    "</div> \n",
    "\n",
    "\n",
    "<body>\n",
    "\n",
    "\n",
    "    \n",
    "</html>\n",
    "\n",
    "<!DOCTYPE html>\n",
    "<html lang=\"en\">\n",
    "<head>\n",
    "    <meta charset=\"UTF-8\">\n",
    "    <meta name=\"viewport\" content=\"width=device-width, initial-scale=1.0\">\n",
    "    <link rel=\"stylesheet\" href=\"https://use.typekit.net/your-typekit-id.css\">\n",
    "</head>\n",
    "<body>\n",
    "    \n",
    "    \n",
    "<div style=\"background-color: #000000; color: white; text-align: center; padding: 10px; font-family: 'Proxima Nova', sans-serif; font-size: 24px;\">\n",
    "    Replication Lab  <br>\n",
    "    GEC0319 | Time Series <br>\n",
    "    \n",
    "    \n",
    "</div>\n",
    "\n",
    "\n",
    "\n",
    "    \n",
    "    \n",
    "</body>\n",
    "</html>"
   ]
  },
  {
   "cell_type": "markdown",
   "id": "977dfefd",
   "metadata": {},
   "source": [
    "## **The Great Crash, the Oil-Price Shock, and the Unit-Root Hypothesis** \n",
    "- Author(s): **Pierre Perron**  \n",
    "- First Published: **1989**\n",
    "- Link: [here](https://drive.google.com/file/d/1YXIacc0B951QRHqhtUovqRc6KCvYAsnh/view?usp=drive_link)"
   ]
  },
  {
   "cell_type": "markdown",
   "id": "387b13db",
   "metadata": {},
   "source": [
    "#### Abstract\n",
    "\n",
    ">*We consider the null hypothesis that a time series has a unit root with possibly nonzero drift against the alternative that the process is \"trend-stationary.\" The interest is that we allow under both the null and alternative hypotheses for the presence of a one-time change in the level or in the slope of the trend function. We show how standard tests of the unit\n",
    "root hypothesis against trend stationary alternatives cannot reject the unit root hypothesis if the true data generating mechanism is that of stationary fluctuations around a trend function which contains a one-time break. This holds even asymptotically. We derive test statistics which allow us to distinguish the two hypotheses when a break is present. Their\n",
    "limiting distribution is established and selected percentage points are tabulated. We apply these tests to the Nelson-Plosser data set and to the postwar quarterly real GNP series. In the former, the break is due to the 1929 crash and takes the form of a sudden change in the level of the series. For 11 out of the 14 series analyzed by Nelson and Plosser we can reject at a high confidence level the unit root hypothesis. In the case of the postwar quarterly real GNP series, the break in the trend function occurs at the time of the oil price shock (1973) and takes the form of a change in the slope. Here again we can reject the null hypothesis of a unit root. If one is ready to postulate that the 1929 crash and the slowdown in growth after 1973 are not realizations of an underlying time-invariant stochastic process but can be modeled as exogenous, then the conclusion is that most macroeconomic time series are not characterized by the presence of a unit root. Fluctuations are indeed stationary around a deterministic trend function. The only \"shocks\" which have had persistent effects are the 1929 crash and the 1973 oil price shock.*"
   ]
  },
  {
   "cell_type": "markdown",
   "id": "6686b07c",
   "metadata": {},
   "source": [
    "## 📚 Index\n",
    "\n",
    "- [I. Section Title](#section-I)\n",
    "- [II. Section Title](#section-II)\n",
    "- [III. Section Title](#section-III)\n",
    "- [IV. Section Title](#section-IV)\n"
   ]
  },
  {
   "cell_type": "markdown",
   "id": "ce989997",
   "metadata": {},
   "source": [
    "# section-I\n",
    "---"
   ]
  },
  {
   "cell_type": "code",
   "execution_count": null,
   "id": "1cc03e0e",
   "metadata": {},
   "outputs": [],
   "source": []
  },
  {
   "cell_type": "markdown",
   "id": "02f2f088",
   "metadata": {},
   "source": [
    "# section-II\n",
    "---"
   ]
  },
  {
   "cell_type": "code",
   "execution_count": null,
   "id": "9d0ef4b9",
   "metadata": {},
   "outputs": [],
   "source": []
  },
  {
   "cell_type": "markdown",
   "id": "29361e00",
   "metadata": {},
   "source": [
    "# section-III\n",
    "---"
   ]
  },
  {
   "cell_type": "code",
   "execution_count": null,
   "id": "19b0df44",
   "metadata": {},
   "outputs": [],
   "source": []
  },
  {
   "cell_type": "markdown",
   "id": "d80d1ee0",
   "metadata": {},
   "source": [
    "# section-IV\n",
    "\n",
    "---"
   ]
  },
  {
   "cell_type": "code",
   "execution_count": null,
   "id": "ced396e0",
   "metadata": {},
   "outputs": [],
   "source": []
  }
 ],
 "metadata": {
  "kernelspec": {
   "display_name": "Python 3 (ipykernel)",
   "language": "python",
   "name": "python3"
  },
  "language_info": {
   "codemirror_mode": {
    "name": "ipython",
    "version": 3
   },
   "file_extension": ".py",
   "mimetype": "text/x-python",
   "name": "python",
   "nbconvert_exporter": "python",
   "pygments_lexer": "ipython3",
   "version": "3.7.12"
  }
 },
 "nbformat": 4,
 "nbformat_minor": 5
}
